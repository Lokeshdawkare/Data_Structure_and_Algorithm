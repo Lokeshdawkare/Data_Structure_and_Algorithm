{
  "nbformat": 4,
  "nbformat_minor": 0,
  "metadata": {
    "colab": {
      "provenance": [],
      "authorship_tag": "ABX9TyMRqrg0gWu9IM6iyI8yZNXR",
      "include_colab_link": true
    },
    "kernelspec": {
      "name": "python3",
      "display_name": "Python 3"
    },
    "language_info": {
      "name": "python"
    }
  },
  "cells": [
    {
      "cell_type": "markdown",
      "metadata": {
        "id": "view-in-github",
        "colab_type": "text"
      },
      "source": [
        "<a href=\"https://colab.research.google.com/github/Lokeshdawkare/Data_Structure_and_Algorithm/blob/main/Project__1_Array_and_list.ipynb\" target=\"_parent\"><img src=\"https://colab.research.google.com/assets/colab-badge.svg\" alt=\"Open In Colab\"/></a>"
      ]
    },
    {
      "cell_type": "code",
      "execution_count": null,
      "metadata": {
        "colab": {
          "base_uri": "https://localhost:8080/"
        },
        "id": "-2doGfYgEUCA",
        "outputId": "f4817a9c-174b-41cb-f5da-5831f4dbf171"
      },
      "outputs": [
        {
          "output_type": "stream",
          "name": "stdout",
          "text": [
            "How many day's temperature4\n",
            "day1's high temp:1\n",
            "day2's high temp:2\n",
            "day3's high temp:3\n",
            "day4's high temp:4\n",
            "\n",
            " Average=2.5\n"
          ]
        }
      ],
      "source": [
        "#Calculate Average Temperature\n",
        "NumDays=int(input(\"How many day's temperature\"))\n",
        "\n",
        "total=0\n",
        "for i in range(1,NumDays+1):\n",
        "  nextdays=int(input(\"day\"+ str(i)+\"'s high temp:\"))\n",
        "  total = total+nextdays\n",
        "\n",
        "avg=round(total/NumDays,2)\n",
        "print(\"\\n Average=\"+str(avg))\n",
        "\n",
        "\n",
        "\n",
        "\n"
      ]
    },
    {
      "cell_type": "code",
      "source": [
        "print(\"Hello\")\n",
        "print(\"\\nWorld\")"
      ],
      "metadata": {
        "colab": {
          "base_uri": "https://localhost:8080/"
        },
        "id": "KywoIeuiIFog",
        "outputId": "e88dd781-f3e8-4a20-f49a-721836363187"
      },
      "execution_count": null,
      "outputs": [
        {
          "output_type": "stream",
          "name": "stdout",
          "text": [
            "Hello\n",
            "\n",
            "World\n"
          ]
        }
      ]
    }
  ]
}