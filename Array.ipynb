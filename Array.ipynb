{
  "nbformat": 4,
  "nbformat_minor": 0,
  "metadata": {
    "colab": {
      "provenance": [],
      "gpuType": "V28",
      "authorship_tag": "ABX9TyNnfF+s6a6dyUL4mDUhf6xD",
      "include_colab_link": true
    },
    "kernelspec": {
      "name": "python3",
      "display_name": "Python 3"
    },
    "language_info": {
      "name": "python"
    },
    "accelerator": "TPU"
  },
  "cells": [
    {
      "cell_type": "markdown",
      "metadata": {
        "id": "view-in-github",
        "colab_type": "text"
      },
      "source": [
        "<a href=\"https://colab.research.google.com/github/Lokeshdawkare/Data_Structure_and_Algorithm/blob/main/Array.ipynb\" target=\"_parent\"><img src=\"https://colab.research.google.com/assets/colab-badge.svg\" alt=\"Open In Colab\"/></a>"
      ]
    },
    {
      "cell_type": "markdown",
      "source": [
        "# Array using array module"
      ],
      "metadata": {
        "id": "u0Jthc5TiIAw"
      }
    },
    {
      "cell_type": "code",
      "execution_count": 27,
      "metadata": {
        "colab": {
          "base_uri": "https://localhost:8080/"
        },
        "id": "x6iFocOJflZj",
        "outputId": "419af734-bffe-4636-ba30-a25f609e064a"
      },
      "outputs": [
        {
          "output_type": "stream",
          "name": "stdout",
          "text": [
            "array('i', [1, 2, 3, 4, 5, 6])\n"
          ]
        }
      ],
      "source": [
        "import array\n",
        "my_array=array.array('i',[1,2,3,4,5,6])\n",
        "print(my_array)"
      ]
    },
    {
      "cell_type": "markdown",
      "source": [
        "##Inserting the elements at the beginning"
      ],
      "metadata": {
        "id": "SGXS86FzsD9n"
      }
    },
    {
      "cell_type": "markdown",
      "source": [
        "# Array using the Numpy"
      ],
      "metadata": {
        "id": "Du799K5pielA"
      }
    },
    {
      "cell_type": "code",
      "source": [
        "my_array=array.array('i',[1,2,3,4,5])\n",
        "print (my_array)\n",
        "my_array.insert(0,6)\n",
        "my_array.insert(3,100000)\n",
        "my_array\n"
      ],
      "metadata": {
        "colab": {
          "base_uri": "https://localhost:8080/"
        },
        "id": "lJDrXkgwsChP",
        "outputId": "da36a68f-0b84-4264-fc49-702c301bc6e9"
      },
      "execution_count": 28,
      "outputs": [
        {
          "output_type": "stream",
          "name": "stdout",
          "text": [
            "array('i', [1, 2, 3, 4, 5])\n"
          ]
        },
        {
          "output_type": "execute_result",
          "data": {
            "text/plain": [
              "array('i', [6, 1, 2, 100000, 3, 4, 5])"
            ]
          },
          "metadata": {},
          "execution_count": 28
        }
      ]
    },
    {
      "cell_type": "markdown",
      "source": [
        "## Traversing the elements in the array\n"
      ],
      "metadata": {
        "id": "F0-TFdzDwVqX"
      }
    },
    {
      "cell_type": "code",
      "source": [
        " import numpy as np\n",
        " np_array=np.array([],dtype=int)\n",
        " print(my_array)"
      ],
      "metadata": {
        "colab": {
          "base_uri": "https://localhost:8080/"
        },
        "id": "qOMWRL-6iopY",
        "outputId": "839bba9a-9bfc-4cc4-cf75-3c0d2583e495"
      },
      "execution_count": 30,
      "outputs": [
        {
          "output_type": "stream",
          "name": "stdout",
          "text": [
            "array('i', [6, 1, 2, 100000, 3, 4, 5])\n"
          ]
        }
      ]
    },
    {
      "cell_type": "code",
      "source": [
        "def traverse_array(array):\n",
        "  for i in range(len(array)):\n",
        "    print(array[i])\n",
        "traverse_array(my_array)"
      ],
      "metadata": {
        "colab": {
          "base_uri": "https://localhost:8080/"
        },
        "id": "X2Spw6tPwp6H",
        "outputId": "0e16d6ef-ee47-4170-e503-39e531ae30ae"
      },
      "execution_count": 31,
      "outputs": [
        {
          "output_type": "stream",
          "name": "stdout",
          "text": [
            "6\n",
            "1\n",
            "2\n",
            "100000\n",
            "3\n",
            "4\n",
            "5\n"
          ]
        }
      ]
    },
    {
      "cell_type": "markdown",
      "source": [
        "# Access array element"
      ],
      "metadata": {
        "id": "qNspVz2N6pg_"
      }
    },
    {
      "cell_type": "code",
      "source": [
        "from array import *\n",
        "array_num=array('i',[678,565, 78676 , 90, 12 ,6])\n",
        "def accesselement(array, index):\n",
        "  if index >=len(array):\n",
        "    print(\"there is not any elemnt in this index\")\n",
        "  else:\n",
        "    print(array[index])\n",
        "accesselement(array_num,1)"
      ],
      "metadata": {
        "colab": {
          "base_uri": "https://localhost:8080/"
        },
        "id": "Y4AAwh4t6op3",
        "outputId": "8fa37846-f9e5-4555-afbf-49897b43599b"
      },
      "execution_count": 32,
      "outputs": [
        {
          "output_type": "stream",
          "name": "stdout",
          "text": [
            "565\n"
          ]
        }
      ]
    },
    {
      "cell_type": "markdown",
      "source": [
        "## Searching the element in the array"
      ],
      "metadata": {
        "id": "i75f3eVhBHMP"
      }
    },
    {
      "cell_type": "code",
      "source": [
        "import array\n",
        "my_array1=array.array('i',[1,2,3,4,5,])\n",
        "def linear_search(arr,target):\n",
        "  for i in range(len(arr)):\n",
        "    if arr[i]==target:\n",
        "      return i\n",
        "  return -1\n",
        "result=linear_search(arr,target) # output is the index of the element whcih we have given\n",
        "arr=list(map(int,input(\"enter the array\").split()))\n",
        "target=int(input(\"enter the elemnt you want to search in arr\"))\n",
        "result"
      ],
      "metadata": {
        "colab": {
          "base_uri": "https://localhost:8080/"
        },
        "id": "jRO69rD1BQe-",
        "outputId": "e9d23533-10cd-4839-b1c1-96810d53118c"
      },
      "execution_count": 33,
      "outputs": [
        {
          "name": "stdout",
          "output_type": "stream",
          "text": [
            "enter the array45 60 89 22 34 56 87 100 45 67 89 22 \n",
            "enter the elemnt you want to search in arr22\n"
          ]
        },
        {
          "output_type": "execute_result",
          "data": {
            "text/plain": [
              "-1"
            ]
          },
          "metadata": {},
          "execution_count": 33
        }
      ]
    },
    {
      "cell_type": "code",
      "source": [
        "import array\n",
        "\n",
        "# Array declaration\n",
        "my_array1 = array.array('i', [1, 2, 3, 4, 5])\n",
        "\n",
        "# Linear Search Function\n",
        "def linear_search(arr, target):\n",
        "    for i in range(len(arr)):\n",
        "        if arr[i] == target:\n",
        "            return i  # Return index if found\n",
        "    return -1  # Return -1 if not found\n",
        "\n",
        "# Taking array and target as input\n",
        "arr = list(map(int, input(\"Enter the array elements: \").split()))\n",
        "target = int(input(\"Enter the element you want to search in arr: \"))\n",
        "\n",
        "# Searching for the target\n",
        "result = linear_search(arr, target)\n",
        "\n",
        "# Output result\n",
        "if result != -1:\n",
        "    print(f\"Element {target} found at index {result}.\")\n",
        "else:\n",
        "    print(f\"Element {target} not found in the array.\")\n"
      ],
      "metadata": {
        "colab": {
          "base_uri": "https://localhost:8080/"
        },
        "id": "qOGJSWfkIQYV",
        "outputId": "3ce356c0-9b8c-431e-c1f9-2f8fb1a84fe9"
      },
      "execution_count": 7,
      "outputs": [
        {
          "output_type": "stream",
          "name": "stdout",
          "text": [
            "Enter the array elements: 100 200 300 400 500 600 700\n",
            "Enter the element you want to search in arr: 400\n",
            "Element 400 found at index 3.\n"
          ]
        }
      ]
    },
    {
      "cell_type": "markdown",
      "source": [
        "## Deleting the elements of the array by value"
      ],
      "metadata": {
        "id": "iQGnEAgzKM1F"
      }
    },
    {
      "cell_type": "code",
      "source": [
        "from array import *\n",
        "arr1=array('i',[1, 2, 3 ,4, 5,6,7,8])\n",
        "arr1.remove(3)\n",
        "print(arr1)"
      ],
      "metadata": {
        "colab": {
          "base_uri": "https://localhost:8080/"
        },
        "id": "IKkFEbxRK4IN",
        "outputId": "541d5f5b-adf2-48b7-9ba6-64a1b813e4b0"
      },
      "execution_count": 11,
      "outputs": [
        {
          "output_type": "stream",
          "name": "stdout",
          "text": [
            "array('i', [1, 2, 4, 5, 6, 7, 8])\n"
          ]
        }
      ]
    },
    {
      "cell_type": "markdown",
      "source": [
        "#Deleting the element by the index"
      ],
      "metadata": {
        "id": "IyzCRWV0NsCt"
      }
    },
    {
      "cell_type": "code",
      "source": [
        "from array import *\n",
        "arr1=array('i',[1 , 2, 3, 4,5, 6, 7 ,8, 9,10])\n",
        "arr1.pop(4)\n",
        "print(arr1)"
      ],
      "metadata": {
        "colab": {
          "base_uri": "https://localhost:8080/"
        },
        "id": "ZMEV79MvNOxV",
        "outputId": "dbe2b861-697f-41b1-94f3-a2aee2cf520f"
      },
      "execution_count": 13,
      "outputs": [
        {
          "output_type": "stream",
          "name": "stdout",
          "text": [
            "array('i', [1, 2, 3, 4, 6, 7, 8, 9, 10])\n"
          ]
        }
      ]
    },
    {
      "cell_type": "markdown",
      "source": [
        "# Creating and array and traverse"
      ],
      "metadata": {
        "id": "W7iHIVMKk0NU"
      }
    },
    {
      "cell_type": "code",
      "source": [
        "from array import *\n",
        "lokesh=array('i',[1,2,3,4,5,6,7,8,10])\n",
        "for i in lokesh:\n",
        "  print(i)"
      ],
      "metadata": {
        "colab": {
          "base_uri": "https://localhost:8080/"
        },
        "id": "RtlCXu8Qk8Mz",
        "outputId": "c9f6c1e5-5035-4e19-f19c-dbe911be14a1"
      },
      "execution_count": 9,
      "outputs": [
        {
          "output_type": "stream",
          "name": "stdout",
          "text": [
            "1\n",
            "2\n",
            "3\n",
            "4\n",
            "5\n",
            "6\n",
            "7\n",
            "8\n",
            "10\n"
          ]
        }
      ]
    },
    {
      "cell_type": "markdown",
      "source": [
        "#Acess individual elements through indexes"
      ],
      "metadata": {
        "id": "Hvtl8Tm2poML"
      }
    },
    {
      "cell_type": "code",
      "source": [
        "print(\"step 2\")\n",
        "print(lokesh[2])\n"
      ],
      "metadata": {
        "colab": {
          "base_uri": "https://localhost:8080/"
        },
        "id": "ihk8xRWQp0MC",
        "outputId": "14e8d5bb-ad6e-4c91-bff0-376d0da359e8"
      },
      "execution_count": 10,
      "outputs": [
        {
          "output_type": "stream",
          "name": "stdout",
          "text": [
            "step 2\n",
            "3\n"
          ]
        }
      ]
    },
    {
      "cell_type": "markdown",
      "source": [
        "# Append value in an array using append method"
      ],
      "metadata": {
        "id": "hzWwcvXVrHsL"
      }
    },
    {
      "cell_type": "code",
      "source": [
        "print(\"step 3\")\n",
        "lokesh.append(6)\n",
        "print(lokesh)"
      ],
      "metadata": {
        "colab": {
          "base_uri": "https://localhost:8080/"
        },
        "id": "ZxTV3ua0pvUj",
        "outputId": "08210e12-f6d6-4e58-d98b-b0bd0b46329e"
      },
      "execution_count": 11,
      "outputs": [
        {
          "output_type": "stream",
          "name": "stdout",
          "text": [
            "step 3\n",
            "array('i', [1, 2, 3, 4, 5, 6, 7, 8, 10, 6])\n"
          ]
        }
      ]
    },
    {
      "cell_type": "markdown",
      "source": [
        "# Insert value in an array using insert() method"
      ],
      "metadata": {
        "id": "1ReWG74Qse7z"
      }
    },
    {
      "cell_type": "code",
      "source": [
        "print(\"step 4\")\n",
        "lokesh.insert(0,11)\n",
        "print(lokesh)"
      ],
      "metadata": {
        "colab": {
          "base_uri": "https://localhost:8080/"
        },
        "id": "lJ7Rg7F5stFE",
        "outputId": "a7bf3800-00a3-49b7-ea3c-f1798712d1a0"
      },
      "execution_count": 12,
      "outputs": [
        {
          "output_type": "stream",
          "name": "stdout",
          "text": [
            "step 4\n",
            "array('i', [11, 1, 2, 3, 4, 5, 6, 7, 8, 10, 6])\n"
          ]
        }
      ]
    },
    {
      "cell_type": "markdown",
      "source": [
        "#Extend python array using exted() method"
      ],
      "metadata": {
        "id": "XuaYieoUwzFs"
      }
    },
    {
      "cell_type": "code",
      "source": [
        "print(\"step 5\")\n",
        "lokesh=array('i',[10,11,13,18,19])\n",
        "lokesh.extend(arr1)\n",
        "print(lokesh)"
      ],
      "metadata": {
        "colab": {
          "base_uri": "https://localhost:8080/"
        },
        "id": "NayEJIdjw_2z",
        "outputId": "f38515f6-a460-453e-a8e2-7980a4688bc1"
      },
      "execution_count": 15,
      "outputs": [
        {
          "output_type": "stream",
          "name": "stdout",
          "text": [
            "step 5\n",
            "array('i', [10, 11, 13, 18, 19, 1, 2, 3, 4, 6, 7, 8, 9, 10])\n"
          ]
        }
      ]
    },
    {
      "cell_type": "markdown",
      "source": [
        "# Add items from list into array using fromlist() methos"
      ],
      "metadata": {
        "id": "PzWgKc2gy5Zb"
      }
    },
    {
      "cell_type": "code",
      "source": [
        "print(\"step 6\")\n",
        "templist=[20,21,22]\n",
        "lokesh.fromlist(templist)\n",
        "print(lokesh)\n"
      ],
      "metadata": {
        "colab": {
          "base_uri": "https://localhost:8080/"
        },
        "id": "rtX56rB-zB8z",
        "outputId": "6ab0d4e6-ece6-43a5-aac3-2a44b60a99fc"
      },
      "execution_count": 16,
      "outputs": [
        {
          "output_type": "stream",
          "name": "stdout",
          "text": [
            "array('i', [10, 11, 13, 18, 19, 1, 2, 3, 4, 6, 7, 8, 9, 10, 20, 21, 22])\n"
          ]
        }
      ]
    },
    {
      "cell_type": "markdown",
      "source": [
        "#Remove any array element using remove methid"
      ],
      "metadata": {
        "id": "Kr8xzZltzlq6"
      }
    },
    {
      "cell_type": "code",
      "source": [
        "print(\"step 7\")\n",
        "from array import *\n",
        "lokesh=array('i',[22,33,44,55,66,44,44,44,44,77,88,99])\n",
        "print(type(lokesh))\n",
        "lokesh.remove(33)\n",
        "print(lokesh)"
      ],
      "metadata": {
        "colab": {
          "base_uri": "https://localhost:8080/"
        },
        "id": "cx7Swn8a1hfr",
        "outputId": "5ddfe1b4-8b95-4e60-f2a6-3c8839ef324a"
      },
      "execution_count": 48,
      "outputs": [
        {
          "output_type": "stream",
          "name": "stdout",
          "text": [
            "step 7\n",
            "<class 'array.array'>\n",
            "array('i', [22, 44, 55, 66, 44, 44, 44, 44, 77, 88, 99])\n"
          ]
        }
      ]
    },
    {
      "cell_type": "markdown",
      "source": [
        "#Remove last array element using pop() method"
      ],
      "metadata": {
        "id": "AIi33qOQ3E_D"
      }
    },
    {
      "cell_type": "code",
      "source": [
        "print(\"step 8\")\n",
        "lokesh.pop()\n",
        "print(lokesh)"
      ],
      "metadata": {
        "colab": {
          "base_uri": "https://localhost:8080/"
        },
        "id": "UwjpeYv73jyS",
        "outputId": "8b9a2960-d7ad-4886-ebe7-9b6977e3504a"
      },
      "execution_count": 23,
      "outputs": [
        {
          "output_type": "stream",
          "name": "stdout",
          "text": [
            "step 8\n",
            "array('i', [22, 44, 55, 66, 77, 88])\n"
          ]
        }
      ]
    },
    {
      "cell_type": "markdown",
      "source": [
        "# Fetch any element through its index using index method\n"
      ],
      "metadata": {
        "id": "OUu5uoh3BbYT"
      }
    },
    {
      "cell_type": "code",
      "source": [
        " print(\"step 9\")\n",
        " print(lokesh.index(55))"
      ],
      "metadata": {
        "colab": {
          "base_uri": "https://localhost:8080/"
        },
        "id": "uXI7yVo_3CCr",
        "outputId": "704cdd1c-fff8-4580-b03e-a1a49ec11ffb"
      },
      "execution_count": 40,
      "outputs": [
        {
          "output_type": "stream",
          "name": "stdout",
          "text": [
            "step 9\n",
            "2\n"
          ]
        }
      ]
    },
    {
      "cell_type": "markdown",
      "source": [
        "#Reverse any thon array using reverse() method\n"
      ],
      "metadata": {
        "id": "N7oz_KCKCF0y"
      }
    },
    {
      "cell_type": "code",
      "source": [
        "print(\"step 10\")\n",
        "lokesh.reverse()\n",
        "print(lokesh)\n"
      ],
      "metadata": {
        "colab": {
          "base_uri": "https://localhost:8080/"
        },
        "id": "u_J2_6VQCQ_7",
        "outputId": "60acb90a-22a9-4f56-ccd6-600e6446b794"
      },
      "execution_count": 35,
      "outputs": [
        {
          "output_type": "stream",
          "name": "stdout",
          "text": [
            "step 10\n",
            "array('i', [88, 77, 66, 55, 44, 22])\n"
          ]
        }
      ]
    },
    {
      "cell_type": "markdown",
      "source": [
        "# Get Array buffer information through buffere_info() method"
      ],
      "metadata": {
        "id": "d1gDJeNHDUwr"
      }
    },
    {
      "cell_type": "code",
      "source": [
        "print(\"step 11\")\n",
        "print(lokesh.buffer_info())"
      ],
      "metadata": {
        "colab": {
          "base_uri": "https://localhost:8080/"
        },
        "id": "lvsCAu-3Dfm6",
        "outputId": "4e10a137-678a-4bb6-8fb4-de1ec61ac9b5"
      },
      "execution_count": 41,
      "outputs": [
        {
          "output_type": "stream",
          "name": "stdout",
          "text": [
            "step 11\n",
            "(138149036831344, 11)\n"
          ]
        }
      ]
    },
    {
      "cell_type": "markdown",
      "source": [
        "#Check ofr number of occurrences of an element using count() method"
      ],
      "metadata": {
        "id": "GNlDyS5IEbKK"
      }
    },
    {
      "cell_type": "code",
      "source": [
        "print(\"step 12\")\n",
        "lokesh.append(55)\n",
        "print(lokesh.count(55))"
      ],
      "metadata": {
        "colab": {
          "base_uri": "https://localhost:8080/"
        },
        "id": "1YLSRjqdE0Zq",
        "outputId": "21a5e4cf-1e06-4735-fb11-f7f802bf9f71"
      },
      "execution_count": 44,
      "outputs": [
        {
          "output_type": "stream",
          "name": "stdout",
          "text": [
            "step 12\n",
            "2\n"
          ]
        }
      ]
    },
    {
      "cell_type": "markdown",
      "source": [
        "# Convert array to string using tostring method"
      ],
      "metadata": {
        "id": "gwhyvWgQG59S"
      }
    },
    {
      "cell_type": "code",
      "source": [
        "print(\"step 13\")\n",
        "strTemp=lokesh.tostring()\n",
        "print(strTemp)\n",
        "\n",
        "\"\"\"This is because the method for converting an array to a byte\n",
        "string in Python 3 is tobytes(), not tostring(). tostring() was\n",
        "used in Python 2 but has been deprecated.\"\"\""
      ],
      "metadata": {
        "colab": {
          "base_uri": "https://localhost:8080/",
          "height": 240
        },
        "id": "Kg1AAPf_HULC",
        "outputId": "b18db871-0ed5-48d2-fa33-53d3a2ebc3ba"
      },
      "execution_count": 50,
      "outputs": [
        {
          "output_type": "stream",
          "name": "stdout",
          "text": [
            "step 13\n"
          ]
        },
        {
          "output_type": "error",
          "ename": "AttributeError",
          "evalue": "'array.array' object has no attribute 'tostring'",
          "traceback": [
            "\u001b[0;31m---------------------------------------------------------------------------\u001b[0m",
            "\u001b[0;31mAttributeError\u001b[0m                            Traceback (most recent call last)",
            "\u001b[0;32m<ipython-input-50-8f838939bf73>\u001b[0m in \u001b[0;36m<cell line: 0>\u001b[0;34m()\u001b[0m\n\u001b[1;32m      1\u001b[0m \u001b[0mprint\u001b[0m\u001b[0;34m(\u001b[0m\u001b[0;34m\"step 13\"\u001b[0m\u001b[0;34m)\u001b[0m\u001b[0;34m\u001b[0m\u001b[0;34m\u001b[0m\u001b[0m\n\u001b[0;32m----> 2\u001b[0;31m \u001b[0mstrTemp\u001b[0m\u001b[0;34m=\u001b[0m\u001b[0mlokesh\u001b[0m\u001b[0;34m.\u001b[0m\u001b[0mtostring\u001b[0m\u001b[0;34m(\u001b[0m\u001b[0;34m)\u001b[0m\u001b[0;34m\u001b[0m\u001b[0;34m\u001b[0m\u001b[0m\n\u001b[0m\u001b[1;32m      3\u001b[0m \u001b[0mprint\u001b[0m\u001b[0;34m(\u001b[0m\u001b[0mstrTemp\u001b[0m\u001b[0;34m)\u001b[0m\u001b[0;34m\u001b[0m\u001b[0;34m\u001b[0m\u001b[0m\n\u001b[1;32m      4\u001b[0m \u001b[0;34m\u001b[0m\u001b[0m\n\u001b[1;32m      5\u001b[0m \"\"\"This is because the method for converting an array to a byte \n",
            "\u001b[0;31mAttributeError\u001b[0m: 'array.array' object has no attribute 'tostring'"
          ]
        }
      ]
    },
    {
      "cell_type": "markdown",
      "source": [
        "# Convert array to a python list with same elements using tolist() method"
      ],
      "metadata": {
        "id": "zRt4KKMIIyyq"
      }
    },
    {
      "cell_type": "code",
      "source": [
        "print('step 14')\n",
        "print(lokesh) # This is array\n",
        "print(lokesh.tolist()) # This list\n"
      ],
      "metadata": {
        "colab": {
          "base_uri": "https://localhost:8080/"
        },
        "id": "6HOhWjA3I_3y",
        "outputId": "08f85623-320d-48dd-9a29-d906a86af3d1"
      },
      "execution_count": 52,
      "outputs": [
        {
          "output_type": "stream",
          "name": "stdout",
          "text": [
            "step 14\n",
            "array('i', [22, 44, 55, 66, 44, 44, 44, 44, 77, 88, 99])\n",
            "[22, 44, 55, 66, 44, 44, 44, 44, 77, 88, 99]\n"
          ]
        }
      ]
    },
    {
      "cell_type": "markdown",
      "source": [
        "# Append a string to char array using fromstring() method"
      ],
      "metadata": {
        "id": "7XXvP4U3J9t5"
      }
    },
    {
      "cell_type": "code",
      "source": [],
      "metadata": {
        "id": "471QElLzJvLa"
      },
      "execution_count": null,
      "outputs": []
    },
    {
      "cell_type": "markdown",
      "source": [
        "# Slice Element from an array"
      ],
      "metadata": {
        "id": "jsOxMzTdKVuq"
      }
    },
    {
      "cell_type": "code",
      "source": [
        "print(lokesh[:])"
      ],
      "metadata": {
        "colab": {
          "base_uri": "https://localhost:8080/"
        },
        "id": "qpf22isjKc1i",
        "outputId": "d7a9126f-62ff-4f55-d296-ddbae3541d76"
      },
      "execution_count": 55,
      "outputs": [
        {
          "output_type": "stream",
          "name": "stdout",
          "text": [
            "array('i', [22, 44, 55, 66, 44, 44, 44, 44, 77, 88, 99])\n"
          ]
        }
      ]
    }
  ]
}