{
  "nbformat": 4,
  "nbformat_minor": 0,
  "metadata": {
    "colab": {
      "provenance": [],
      "authorship_tag": "ABX9TyO7H4BbuljQxgbjeZJPKPbT",
      "include_colab_link": true
    },
    "kernelspec": {
      "name": "python3",
      "display_name": "Python 3"
    },
    "language_info": {
      "name": "python"
    }
  },
  "cells": [
    {
      "cell_type": "markdown",
      "metadata": {
        "id": "view-in-github",
        "colab_type": "text"
      },
      "source": [
        "<a href=\"https://colab.research.google.com/github/Lokeshdawkare/Data_Structure_and_Algorithm/blob/main/Python_list.ipynb\" target=\"_parent\"><img src=\"https://colab.research.google.com/assets/colab-badge.svg\" alt=\"Open In Colab\"/></a>"
      ]
    },
    {
      "cell_type": "markdown",
      "source": [
        "# what is a list how to create it?"
      ],
      "metadata": {
        "id": "ZQpp9Y8MHUY1"
      }
    },
    {
      "cell_type": "code",
      "execution_count": null,
      "metadata": {
        "colab": {
          "base_uri": "https://localhost:8080/"
        },
        "id": "c4VpteWdHRRa",
        "outputId": "ae4b6ba7-6780-4153-fbf6-0311c02f6cc8"
      },
      "outputs": [
        {
          "output_type": "stream",
          "name": "stdout",
          "text": [
            "[1, 2, 3, 4]\n",
            "['Milk', 'cheese', 'Butter']\n",
            "[1, 1.5, 'spam']\n",
            "[1, 2, 3, 4, 5, [1.5, 6.4], ['test']]\n",
            "[]\n"
          ]
        }
      ],
      "source": [
        "integers=[1,2,3,4]\n",
        "print(integers)\n",
        "\n",
        "stringlist =['Milk','cheese','Butter']\n",
        "print(stringlist)\n",
        "\n",
        "mixelist=[1,1.5,'spam']\n",
        "print(mixelist)\n",
        "\n",
        "mixelist=[1,2,3,4,5,[1.5,6.4],[\"test\"]]\n",
        "print(mixelist)\n",
        "\n",
        "empty=[]\n",
        "print(empty)\n"
      ]
    },
    {
      "cell_type": "markdown",
      "source": [
        "#Access elements of the list and traversing"
      ],
      "metadata": {
        "id": "i23ecBEnMyXR"
      }
    },
    {
      "source": [
        "shoppingList = ['Milk','Cheese','Butter']\n",
        "print(shoppingList[-1]) # Changed shoppinglist to shoppingLi\n",
        "# if we give negetive index such a -1 it will acces from the backward\n",
        "\n",
        "# in operator for finding the element in the list\n",
        "print('Milk'in shoppingList)\n",
        "\n",
        "# if element is present in the list then it will give true and if not it will give false\n",
        "print('egg'in shoppingList)"
      ],
      "cell_type": "code",
      "metadata": {
        "colab": {
          "base_uri": "https://localhost:8080/"
        },
        "id": "_FMXLwNIO28f",
        "outputId": "4c2c39db-23a7-4f7b-ae45-a7665ec2a3ff"
      },
      "execution_count": null,
      "outputs": [
        {
          "output_type": "stream",
          "name": "stdout",
          "text": [
            "Butter\n",
            "True\n",
            "False\n"
          ]
        }
      ]
    },
    {
      "cell_type": "code",
      "source": [
        "\"\"\"for i in range(len(Shoppinglist)):\n",
        "  Shoppinglist[i]=Shoppinglist[i]+\"+\"\n",
        "  print(Shoppinglist[i])\"\"\"\n",
        "empty=[]\n",
        "for i in empty:\n",
        "  print(\"This is empty list\")\n"
      ],
      "metadata": {
        "id": "tHmAqNwoU668"
      },
      "execution_count": null,
      "outputs": []
    },
    {
      "cell_type": "code",
      "source": [
        "Shoppinglist=[\"milk\",\"Protein\",\"bread\",1]\n",
        "for i in Shoppinglist:\n",
        "  print(i)"
      ],
      "metadata": {
        "colab": {
          "base_uri": "https://localhost:8080/"
        },
        "id": "V8oYljDaTo10",
        "outputId": "3c6931d4-c287-4df7-a09b-9c8201f2d35b"
      },
      "execution_count": null,
      "outputs": [
        {
          "output_type": "stream",
          "name": "stdout",
          "text": [
            "milk\n",
            "Protein\n",
            "bread\n",
            "1\n"
          ]
        }
      ]
    },
    {
      "cell_type": "markdown",
      "source": [
        "# Update and insert list"
      ],
      "metadata": {
        "id": "tIAX9cMP6kJt"
      }
    },
    {
      "cell_type": "code",
      "source": [
        "mylist=[1,2,3,4,5,6,7]\n",
        "print(mylist)\n",
        "\n",
        "mylist[1]=0\n",
        "print(mylist)\n",
        "\n",
        "mylist.insert(2,100)\n",
        "print(mylist)\n",
        "\n",
        "\n",
        "\n",
        "\n",
        "# List methods\n",
        "# insert() inserts an elements at a specified postion\n",
        "mylist.insert(6,900)\n",
        "print(mylist)\n",
        "# append ()Adds a single elements to the end of the list\n",
        "mylist.append(78)\n",
        "print(mylist)\n",
        "# extend()  Extends the list by adding all elemtns from another iterable\n",
        "mylist.extend([60,78,45])\n",
        "print(mylist)"
      ],
      "metadata": {
        "colab": {
          "base_uri": "https://localhost:8080/"
        },
        "id": "czxvu4lD6s2r",
        "outputId": "e17d4bbb-7acc-4885-8ea6-ffb4b8ce1704"
      },
      "execution_count": null,
      "outputs": [
        {
          "output_type": "stream",
          "name": "stdout",
          "text": [
            "[1, 2, 3, 4, 5, 6, 7]\n",
            "[1, 0, 3, 4, 5, 6, 7]\n",
            "[1, 0, 100, 3, 4, 5, 6, 7]\n",
            "[1, 0, 100, 3, 4, 5, 900, 6, 7]\n",
            "[1, 0, 100, 3, 4, 5, 900, 6, 7, 78]\n",
            "[1, 0, 100, 3, 4, 5, 900, 6, 7, 78, 60, 78, 45]\n"
          ]
        }
      ]
    },
    {
      "cell_type": "markdown",
      "source": [
        "# Slice and delete from the operations"
      ],
      "metadata": {
        "id": "_hjDWGzyMIaS"
      }
    },
    {
      "cell_type": "code",
      "source": [
        "#sequence[start : stop : step]\n",
        "mylist=['a','b','c','d','e','f','g']\n",
        "print(mylist[0:3])\n",
        "print(mylist[:3])\n",
        "print(mylist[2:])\n",
        "print(mylist[::2])\n",
        "print(mylist[: :-1]) # this is for reversing the list\n"
      ],
      "metadata": {
        "colab": {
          "base_uri": "https://localhost:8080/"
        },
        "id": "QeiE3lzDMqyp",
        "outputId": "726ba29b-a4b8-4f94-828d-ff437dedf5ce"
      },
      "execution_count": null,
      "outputs": [
        {
          "output_type": "stream",
          "name": "stdout",
          "text": [
            "['a', 'b', 'c']\n",
            "['a', 'b', 'c']\n",
            "['c', 'd', 'e', 'f', 'g']\n",
            "['a', 'c', 'e', 'g']\n",
            "['g', 'f', 'e', 'd', 'c', 'b', 'a']\n"
          ]
        }
      ]
    },
    {
      "cell_type": "markdown",
      "source": [
        "# List methods are deletion\n",
        "# pop() delete () remove ()"
      ],
      "metadata": {
        "id": "QD26jOJYO2Qi"
      }
    },
    {
      "cell_type": "code",
      "source": [
        "mylist=['a','lokesh','apple','gulab' ,'jammun']\n",
        "\n",
        "# Removes and returns an element by index (defaut=last)\n",
        "mylist.pop()\n",
        "print(mylist)\n",
        "\n",
        "mylist.pop(0)\n",
        "print(mylist)\n",
        "\n",
        "# deletes a specific element by index\n",
        "# can also delete slices or the entire list\n",
        "del mylist[0]\n",
        "print(mylist)\n",
        "\n",
        "# Delets the first ocurrence of a specified value\n",
        "# raises an error if the value isn't found\n",
        "mylist.remove('apple')\n",
        "print(mylist)\n",
        "\n",
        "\n",
        "\n",
        "\n",
        "\n",
        "\n"
      ],
      "metadata": {
        "colab": {
          "base_uri": "https://localhost:8080/"
        },
        "id": "j_H64U4iPfCS",
        "outputId": "51b84fb3-61e0-401a-dd90-d267b4c1eb8d"
      },
      "execution_count": null,
      "outputs": [
        {
          "output_type": "stream",
          "name": "stdout",
          "text": [
            "['a', 'lokesh', 'apple', 'gulab']\n",
            "['lokesh', 'apple', 'gulab']\n",
            "['apple', 'gulab']\n",
            "['gulab']\n"
          ]
        }
      ]
    },
    {
      "cell_type": "markdown",
      "source": [
        "# Searching for the element in the list"
      ],
      "metadata": {
        "id": "niKxl7hMWcVC"
      }
    },
    {
      "cell_type": "code",
      "source": [
        "#Searching the element without the loop and if else\n",
        "mylist=[1,3,5,80,70,40,90,30,100,500]\n",
        "target=int(input(\"enter the number to check the numerber to check\"))\n",
        "if target in mylist:\n",
        "  print(f\"{target} is at index {mylist.index(target)}\")\n",
        "else:\n",
        "  print(f\"{target} is not in the list\")\n",
        "\n",
        "\n",
        "\n",
        "\n",
        "\n",
        "\n",
        "\n",
        "#Searching the element with linear searching\n",
        "\n",
        "mylist = [10,20,30,40,50,60 ,70, 80,45,98,15,4]\n",
        "target=int(input(\"enter the number to check the number in the list:)\"))\n",
        "def linearsearching(array,target):\n",
        "  for i in range(len(mylist)):\n",
        "    if mylist[i]==target:\n",
        "      return f\"{target} is present at index :{array.index(target)}\"\n",
        "  return f\"{target} is not preset in the list\"\n",
        "print(linearsearching(mylist,target))\n"
      ],
      "metadata": {
        "colab": {
          "base_uri": "https://localhost:8080/"
        },
        "id": "zN1PdJdCWtcK",
        "outputId": "908a756c-b4d3-41b5-cc03-a6e5fbfe6d2b"
      },
      "execution_count": null,
      "outputs": [
        {
          "output_type": "stream",
          "name": "stdout",
          "text": [
            "enter the number to check the numerber to check80\n",
            "80 is at index 3\n",
            "enter the number to check the number in the list:)80\n",
            "80 is present at index :7\n"
          ]
        }
      ]
    },
    {
      "cell_type": "markdown",
      "source": [
        "# List operations and functions\n"
      ],
      "metadata": {
        "id": "9JZXawLSsTlg"
      }
    },
    {
      "cell_type": "code",
      "source": [
        "# plus operator concatenation\n",
        "\n",
        "a=[1,2,3]\n",
        "b=[4,5,6,7]\n",
        "c=a+b\n",
        "print(c)\n"
      ],
      "metadata": {
        "colab": {
          "base_uri": "https://localhost:8080/"
        },
        "id": "rS8MYKatszDf",
        "outputId": "f1f70e38-aa0d-4bba-f1cb-3d41ed6f557f"
      },
      "execution_count": null,
      "outputs": [
        {
          "output_type": "stream",
          "name": "stdout",
          "text": [
            "[1, 2, 3, 4, 5, 6, 7]\n"
          ]
        }
      ]
    },
    {
      "cell_type": "code",
      "source": [
        "# * repetation elements in a list\n",
        "a=[0,1]\n",
        "a=a*4\n",
        "print(a)"
      ],
      "metadata": {
        "colab": {
          "base_uri": "https://localhost:8080/"
        },
        "id": "Wy7bWS8ft-Fo",
        "outputId": "30ccc66e-e15c-44eb-e50d-86385cbcfb50"
      },
      "execution_count": null,
      "outputs": [
        {
          "output_type": "stream",
          "name": "stdout",
          "text": [
            "[0, 1, 0, 1, 0, 1, 0, 1]\n"
          ]
        }
      ]
    },
    {
      "cell_type": "code",
      "source": [
        "# check if an element if present 3 in [1,2,4]\n",
        "if 3 in [1,2,3,4,5,6]:\n",
        "  print(\"yes\")\n",
        "else:\n",
        "  print(\"Nop\")"
      ],
      "metadata": {
        "colab": {
          "base_uri": "https://localhost:8080/"
        },
        "id": "7-tcNQDavNTX",
        "outputId": "c385d90b-6e47-4025-a429-117b71069d5d"
      },
      "execution_count": null,
      "outputs": [
        {
          "output_type": "stream",
          "name": "stdout",
          "text": [
            "yes\n"
          ]
        }
      ]
    },
    {
      "cell_type": "code",
      "source": [
        "# check if an element if not in the list\n",
        "if 3 not in (1,2,3,4,4,5,5,65,6,6,):\n",
        "  print(\"yes\")\n",
        "else:\n",
        "  print('no')"
      ],
      "metadata": {
        "colab": {
          "base_uri": "https://localhost:8080/"
        },
        "id": "PtsVZXVMvyrH",
        "outputId": "63f5874f-66fb-440a-d849-d76735fa452a"
      },
      "execution_count": null,
      "outputs": [
        {
          "output_type": "stream",
          "name": "stdout",
          "text": [
            "no\n"
          ]
        }
      ]
    },
    {
      "cell_type": "code",
      "source": [
        "a=[0,1,2,3,4,5,6,6,7,7,8,8,9,10,20]\n",
        "print(len(a))\n",
        "\n",
        "print(max(a))\n",
        "print(min(a))\n",
        "print(sum(a))"
      ],
      "metadata": {
        "colab": {
          "base_uri": "https://localhost:8080/"
        },
        "id": "WziWTrrmwIJf",
        "outputId": "0aa9ecde-f239-4f99-dead-d114d2d53ba1"
      },
      "execution_count": null,
      "outputs": [
        {
          "output_type": "stream",
          "name": "stdout",
          "text": [
            "15\n",
            "20\n",
            "0\n",
            "96\n"
          ]
        }
      ]
    },
    {
      "cell_type": "code",
      "source": [
        "mylist = []  # 'from itertools import count' removed (not needed)\n",
        "total = 0     # Initialize total\n",
        "count = 0     # Initialize count\n",
        "\n",
        "while True:  # Corrected 'while' syntax\n",
        "    inp = input(\"enter a number: \")\n",
        "    if inp == \"done\":\n",
        "        break\n",
        "    value = float(inp)  # Fixed indentation\n",
        "    total = total + value  # Corrected 'Value' to 'value'\n",
        "    count = count + 1      # Fixed indentation\n",
        "\n",
        "av = total / count if count != 0 else 0  # Avoid division by zero\n",
        "print(\"Average:\", av)\n",
        "\n"
      ],
      "metadata": {
        "colab": {
          "base_uri": "https://localhost:8080/"
        },
        "id": "TLEHdE0L4AOP",
        "outputId": "bd040a53-8f4e-4f39-c1b4-5aa904e12c60"
      },
      "execution_count": null,
      "outputs": [
        {
          "output_type": "stream",
          "name": "stdout",
          "text": [
            "enter a number: 343333\n",
            "enter a number: 233\n",
            "enter a number: 5433\n",
            "enter a number: 34333\n",
            "enter a number: 333\n",
            "enter a number: 6767\n",
            "enter a number: 90\n",
            "enter a number: 8987\n",
            "enter a number: 567\n",
            "enter a number: 123\n",
            "enter a number: 678\n",
            "enter a number: 345\n",
            "enter a number: done\n",
            "Average: 33435.166666666664\n"
          ]
        }
      ]
    },
    {
      "cell_type": "markdown",
      "source": [
        "# Strings and Lists\n"
      ],
      "metadata": {
        "id": "EcYcjsjO40Xn"
      }
    },
    {
      "cell_type": "code",
      "source": [
        "a='spam'\n",
        "b=list(a)\n",
        "print(b)"
      ],
      "metadata": {
        "colab": {
          "base_uri": "https://localhost:8080/"
        },
        "id": "2zWWdJxW45VO",
        "outputId": "16e23ae1-e455-49df-9ef6-9d42d9e57e7e"
      },
      "execution_count": null,
      "outputs": [
        {
          "output_type": "stream",
          "name": "stdout",
          "text": [
            "['s', 'p', 'a', 'm']\n"
          ]
        }
      ]
    },
    {
      "cell_type": "code",
      "source": [
        "a=\"mynameisbatatalokeshdawkarebatatailiveinindia\"\n",
        "delimiter =\"batata\"\n",
        "b=a.split(delimiter)\n",
        "print(b)\n",
        "print(delimiter.join(b))"
      ],
      "metadata": {
        "colab": {
          "base_uri": "https://localhost:8080/"
        },
        "id": "sM2xu9-n7ktf",
        "outputId": "895a5f13-85d4-4db7-944a-169c835d4fc5"
      },
      "execution_count": null,
      "outputs": [
        {
          "output_type": "stream",
          "name": "stdout",
          "text": [
            "['mynameis', 'lokeshdawkare', 'iliveinindia']\n",
            "mynameisbatatalokeshdawkarebatatailiveinindia\n"
          ]
        }
      ]
    },
    {
      "cell_type": "markdown",
      "source": [
        "#Common list pitfalls and ways to avoid them"
      ],
      "metadata": {
        "id": "U2kejGm59mA_"
      }
    },
    {
      "cell_type": "code",
      "source": [
        "mylist=[2,4,3,1,5,7] #this line is the corrected version.\n",
        "orig=mylist[:]\n",
        "\n",
        "print(orig)\n",
        "\n",
        "mylist.sort()\n",
        "print(mylist)\n",
        "\n",
        "\n",
        "mylist.append(10)\n",
        "print(mylist)\n"
      ],
      "metadata": {
        "colab": {
          "base_uri": "https://localhost:8080/"
        },
        "id": "WU4Zs91F9v0O",
        "outputId": "50f85756-a8b7-4f85-e173-96869f3851c0"
      },
      "execution_count": null,
      "outputs": [
        {
          "output_type": "stream",
          "name": "stdout",
          "text": [
            "[2, 4, 3, 1, 5, 7]\n",
            "[1, 2, 3, 4, 5, 7]\n",
            "[1, 2, 3, 4, 5, 7, 10]\n"
          ]
        }
      ]
    },
    {
      "cell_type": "markdown",
      "source": [
        "# Array vs list"
      ],
      "metadata": {
        "id": "eX5PClvWFUmm"
      }
    },
    {
      "cell_type": "code",
      "source": [
        "# Similarities\n",
        "\n",
        "# Both data structures are mutable\n",
        "# Both can be indexed and iterated through\n",
        "# they can be both sliced\n",
        "\n",
        "\n",
        "import numpy as np\n",
        "myarray=np.array([1,2,3,4,5,6])\n",
        "mylist=[1,2,3,4,5,6]\n",
        "\n",
        "\n",
        "print(myarray/2)\n",
        "\n"
      ],
      "metadata": {
        "id": "SIOgGbXDPhQE"
      },
      "execution_count": null,
      "outputs": []
    },
    {
      "cell_type": "markdown",
      "source": [
        "# List comprehension is a concise way to create lists in Python using a single line of code. It simplifies traditional loops and is often used for creating, filtering, or transforming data.\n",
        "\n"
      ],
      "metadata": {
        "id": "wte03lecJTAK"
      }
    },
    {
      "cell_type": "markdown",
      "source": [
        "# expression for item in iterable if condition\n",
        "Expression: Operation to perform on each item.\n",
        "Iterable: The collection (like a list, tuple, etc.) you are iterating over.\n",
        "Condition (Optional): Filters items based on a condition.\n",
        "\n"
      ],
      "metadata": {
        "id": "3sW4Q61_7U_5"
      }
    },
    {
      "cell_type": "code",
      "source": [
        "Prev_list = [1,2,3]\n",
        "new_list=[]\n",
        "for i in Prev_list:\n",
        "  multiply_2=i*2\n",
        "  new_list.append(multiply_2)\n",
        "  print(new_list)"
      ],
      "metadata": {
        "id": "JehpTvBCJOuB",
        "colab": {
          "base_uri": "https://localhost:8080/"
        },
        "outputId": "3164c49f-fa68-4603-d633-09447b568caf"
      },
      "execution_count": null,
      "outputs": [
        {
          "output_type": "stream",
          "name": "stdout",
          "text": [
            "[2]\n",
            "[2, 4]\n",
            "[2, 4, 6]\n"
          ]
        }
      ]
    },
    {
      "cell_type": "code",
      "source": [
        "square=[x**2 for x in [1,2,3,4,4,5,56,6,67,7,7,78,8]]\n",
        "print(square)\n",
        "\"creating the list\""
      ],
      "metadata": {
        "colab": {
          "base_uri": "https://localhost:8080/",
          "height": 54
        },
        "id": "iBn7nG6V8Tm4",
        "outputId": "febf0049-430f-4b61-f4f9-ccff71b0eae8"
      },
      "execution_count": null,
      "outputs": [
        {
          "output_type": "stream",
          "name": "stdout",
          "text": [
            "[1, 4, 9, 16, 16, 25, 3136, 36, 4489, 49, 49, 6084, 64]\n"
          ]
        },
        {
          "output_type": "execute_result",
          "data": {
            "text/plain": [
              "'creating the list'"
            ],
            "application/vnd.google.colaboratory.intrinsic+json": {
              "type": "string"
            }
          },
          "metadata": {},
          "execution_count": 3
        }
      ]
    },
    {
      "cell_type": "code",
      "source": [
        "previous_list=[1,2,3,4,5]\n",
        "new_list=[]\n",
        "for i in previous_list:\n",
        "  multiply_2=i*2\n",
        "  new_list.append(multiply_2)"
      ],
      "metadata": {
        "id": "Z_eOyE-a-IbC"
      },
      "execution_count": null,
      "outputs": []
    },
    {
      "cell_type": "code",
      "source": [
        "\n",
        "evennumber=[x for x in range(100) if x%2==0]\n",
        "print(evennumber)\n",
        "\"filtering the elements\""
      ],
      "metadata": {
        "colab": {
          "base_uri": "https://localhost:8080/"
        },
        "id": "Qa9-dmoh9Wa6",
        "outputId": "6a5ac82e-d52e-4b62-cad3-f9340d29aeb5"
      },
      "execution_count": null,
      "outputs": [
        {
          "output_type": "stream",
          "name": "stdout",
          "text": [
            "[0, 2, 4, 6, 8, 10, 12, 14, 16, 18, 20, 22, 24, 26, 28, 30, 32, 34, 36, 38, 40, 42, 44, 46, 48, 50, 52, 54, 56, 58, 60, 62, 64, 66, 68, 70, 72, 74, 76, 78, 80, 82, 84, 86, 88, 90, 92, 94, 96, 98]\n",
            "[0, 2, 4, 6, 8]\n"
          ]
        }
      ]
    },
    {
      "cell_type": "code",
      "source": [
        "new_list\n",
        "new_list=[new_list for item in previous_list]\n"
      ],
      "metadata": {
        "id": "AfbYW_kXZAD-"
      },
      "execution_count": null,
      "outputs": []
    },
    {
      "cell_type": "code",
      "source": [
        "my_list = [1, 2, 3, 4, 5]\n",
        "reversed_list = my_list[-1:1:-1]\n",
        "print(reversed_list)"
      ],
      "metadata": {
        "colab": {
          "base_uri": "https://localhost:8080/"
        },
        "id": "uRrz2l-6vmhG",
        "outputId": "5e790c2f-15ef-486f-8e2b-e24ec00ceca7"
      },
      "execution_count": null,
      "outputs": [
        {
          "output_type": "stream",
          "name": "stdout",
          "text": [
            "[5, 4, 3]\n"
          ]
        }
      ]
    },
    {
      "cell_type": "code",
      "source": [
        "Pre_list=[-1,10,-20,2,90]\n",
        "new_list=[number*number for number in Pre_list if number<0]\n",
        "print(new_list)\n",
        "\n",
        "sentence = \"my name is lokesh_dawkare\"\n",
        "def is_consonant(letter):\n",
        "  vowels=\"aeiou\"\n",
        "  return letter.isalpha() and letter.lower() not in vowels\n",
        "consonants=[i for i in sentence if is_consonant(i)]\n",
        "print(consonants)"
      ],
      "metadata": {
        "colab": {
          "base_uri": "https://localhost:8080/"
        },
        "id": "y0mUn-nkzeiE",
        "outputId": "d0d56835-ae85-4836-d088-ad44afcc5ffe"
      },
      "execution_count": null,
      "outputs": [
        {
          "output_type": "stream",
          "name": "stdout",
          "text": [
            "[1, 400]\n",
            "['m', 'y', 'n', 'm', 's', 'l', 'k', 's', 'h', 'd', 'w', 'k', 'r']\n"
          ]
        }
      ]
    }
  ]
}